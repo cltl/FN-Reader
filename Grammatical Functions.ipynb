{
 "cells": [
  {
   "cell_type": "markdown",
   "metadata": {},
   "source": [
    "# Grammatical Functions\n",
    "## TODO\n",
    "* finite control\n",
    "* raising verbs\n",
    "* IMPORTANT 5.5.2"
   ]
  },
  {
   "cell_type": "markdown",
   "metadata": {},
   "source": [
    "``` Each constituent tagged with a frame element in respect to a target word is assigned a phrase\n",
    "type as well as a grammatical function tag in respect to that target. In fact, only constituents tagged with\n",
    "frame elements are assigned grammatical functions. While target words are occasionally tagged with frame\n",
    "elements, they are never assigned a grammatical function```\\citep[p.69]{ruppenhofer2016framenet}"
   ]
  },
  {
   "cell_type": "markdown",
   "metadata": {},
   "source": [
    "```The grammatical functions (GFs) that are assigned describe the ways in which the constituents satisfy\n",
    "abstract grammatical requirements of the target word.```\\citep[p.69]{ruppenhofer2016framenet}"
   ]
  },
  {
   "cell_type": "markdown",
   "metadata": {},
   "source": [
    "```Constituents that occupy core syntactic slots fulfill the functions of Subject and Object. All other constituents\n",
    "accompanying a syntactic head are considered dependents given that their presence in a construction centered\n",
    "on the head is licensed by the head. Among dependents, one can further distinguish between obligatory\n",
    "complements and optional modifiers.```\\citep[p.69]{ruppenhofer2016framenet}"
   ]
  },
  {
   "cell_type": "markdown",
   "metadata": {},
   "source": [
    "## code imports and function calling"
   ]
  },
  {
   "cell_type": "code",
   "execution_count": 1,
   "metadata": {},
   "outputs": [],
   "source": [
    "from random import choice\n",
    "import utils\n",
    "import stats_utils\n",
    "import networkx as nx\n",
    "from IPython.display import display, HTML\n",
    "from tabulate import tabulate\n",
    "%load_ext autoreload\n",
    "%autoreload 2"
   ]
  },
  {
   "cell_type": "code",
   "execution_count": 2,
   "metadata": {},
   "outputs": [],
   "source": [
    "settings = utils.load_paths(category='grammatical-functions')"
   ]
  },
  {
   "cell_type": "code",
   "execution_count": 3,
   "metadata": {},
   "outputs": [],
   "source": [
    "fn = stats_utils.load_framenet(version='1.7')"
   ]
  },
  {
   "cell_type": "markdown",
   "metadata": {},
   "source": [
    "## Grammatical Functions definitions"
   ]
  },
  {
   "cell_type": "code",
   "execution_count": 4,
   "metadata": {},
   "outputs": [
    {
     "data": {
      "text/html": [
       "<table>\n",
       "<thead>\n",
       "<tr><th style=\"text-align: right;\">  </th><th>grammatical-functions  </th><th>Definition                                                                                                                                                                                                        </th><th>Reference                             </th></tr>\n",
       "</thead>\n",
       "<tbody>\n",
       "<tr><td style=\"text-align: right;\"> 0</td><td>Ext                    </td><td>[Verbs,Adjectives,Prepositions,Nouns] External Argument                                                                                                                                                           </td><td>\\citep[p. 70]{ruppenhofer2016framenet}</td></tr>\n",
       "<tr><td style=\"text-align: right;\"> 1</td><td>Obj                    </td><td>[Verbs,Prepositions] Object                                                                                                                                                                                       </td><td>\\citep[p. 70]{ruppenhofer2016framenet}</td></tr>\n",
       "<tr><td style=\"text-align: right;\"> 2</td><td>Dep                    </td><td>[Verbs,Adjectives,Prepositions,Nouns] Dependent                                                                                                                                                                   </td><td>\\citep[p. 70]{ruppenhofer2016framenet}</td></tr>\n",
       "<tr><td style=\"text-align: right;\"> 3</td><td>Head                   </td><td>In pre-nominal uses of adjectives, the modified head nouns are assigned the GF Head (Head)                                                                                                                        </td><td>\\citep[p. 74]{ruppenhofer2016framenet}</td></tr>\n",
       "<tr><td style=\"text-align: right;\"> 4</td><td>Gen                    </td><td>[Nouns] Genitive determiner                                                                                                                                                                                       </td><td>\\citep[p. 70]{ruppenhofer2016framenet}</td></tr>\n",
       "<tr><td style=\"text-align: right;\"> 5</td><td>Appos                  </td><td>[Nouns] Appositive                                                                                                                                                                                                </td><td>\\citep[p. 70]{ruppenhofer2016framenet}</td></tr>\n",
       "<tr><td style=\"text-align: right;\"> 6</td><td>Ext (verb)             </td><td>External covers situations in which phrases outside of the maximal phrase headed by the target word are linked functionally to the target word.                                                                   </td><td>\\citep[p. 71]{ruppenhofer2016framenet}</td></tr>\n",
       "<tr><td style=\"text-align: right;\"> 7</td><td>Ext (adjectives)       </td><td>When an adjective appears in a clausal predication, one of its arguments is expressed as the subject of a copular verb (indicated with underlining) and of the clause as a whole,                                 </td><td>\\citep[p. 73]{ruppenhofer2016framenet}</td></tr>\n",
       "<tr><td style=\"text-align: right;\"> 8</td><td>Obj (verb)             </td><td>Any normal object, any wh-extracted object, or any post-target-verb NP which controls the subject of a complement of the target verb is assigned the grammatical function Obj                                     </td><td>\\citep[p. 71]{ruppenhofer2016framenet}</td></tr>\n",
       "<tr><td style=\"text-align: right;\"> 9</td><td>Dep (verb)             </td><td>Dependent is the general grammatical function assigned to Adverbs, PPs, VPs, Clauses (and a small number of NPs) which occur after their governing verbs, adjectives or nouns in normal declarative sentences.    </td><td>\\citep[p. 72]{ruppenhofer2016framenet}</td></tr>\n",
       "<tr><td style=\"text-align: right;\">10</td><td>Dep (preposition)      </td><td>Any constituent which occurs immediately after a preposition and which expresses a core element of the\n",
       "frame associated with the preposition is tagged as a Dependent (Dep)                                                                                                                                                                                                                   </td><td>\\citep[p. 75]{ruppenhofer2016framenet}</td></tr>\n",
       "<tr><td style=\"text-align: right;\">11</td><td>Obj (preposition)      </td><td>The FrameNet analysis of post-preposition complements used to uniformly label them as a Dependent (Dep), but in the case of noun phrases following the preposition as in (74), we now label them as Objects (Obj).</td><td>\\citep[p. 76]{ruppenhofer2016framenet}</td></tr>\n",
       "<tr><td style=\"text-align: right;\">12</td><td>Ext (preposition)      </td><td>A constituent which expresses an element of the frame associated with a preposition, but which is outside the PP, is tagged as an External Argument (Ext).                                                        </td><td>\\citep[p. 76]{ruppenhofer2016framenet}</td></tr>\n",
       "<tr><td style=\"text-align: right;\">13</td><td>Dep (noun)             </td><td>The GF Dep is assigned to any post-nominal complement of a target noun,                                                                                                                                           </td><td>\\citep[p. 76]{ruppenhofer2016framenet}</td></tr>\n",
       "<tr><td style=\"text-align: right;\">14</td><td>Ext (noun)             </td><td>There are a few cases in which frame-evoking nouns have an External argument of their own. One is with support verbs. Another is when the frame-bearing noun is governed by a control noun                        </td><td>\\citep[p. 77]{ruppenhofer2016framenet}</td></tr>\n",
       "<tr><td style=\"text-align: right;\">15</td><td>Gen (noun)             </td><td>The GF Gen is assigned to any possessive NP functioning as determiner of a target noun                                                                                                                            </td><td>\\citep[p. 77]{ruppenhofer2016framenet}</td></tr>\n",
       "<tr><td style=\"text-align: right;\">16</td><td>Quant (noun)           </td><td>The GF Quant is assigned to a pre-nominal determiner of a target noun, including the indefinite determiner\n",
       "when it functions as a number                                                                                                                                                                                                                   </td><td>\\citep[p. 77]{ruppenhofer2016framenet}</td></tr>\n",
       "<tr><td style=\"text-align: right;\">17</td><td>Appos (noun)           </td><td>The GF Appositive is assigned to post-target appositional Ns or NPs.                                                                                                                                              </td><td>\\citep[p. 77]{ruppenhofer2016framenet}</td></tr>\n",
       "</tbody>\n",
       "</table>"
      ],
      "text/plain": [
       "<IPython.core.display.HTML object>"
      ]
     },
     "metadata": {},
     "output_type": "display_data"
    }
   ],
   "source": [
    "definitions_df = utils.load_definitions_in_df(settings)\n",
    "table = tabulate(definitions_df, \n",
    "                 headers='keys', \n",
    "                 tablefmt='html')\n",
    "display(HTML(table))"
   ]
  },
  {
   "cell_type": "markdown",
   "metadata": {},
   "source": [
    "## Inspect examples of POS and GF combination"
   ]
  },
  {
   "cell_type": "code",
   "execution_count": null,
   "metadata": {},
   "outputs": [],
   "source": [
    "pos_and_gf2annotations = stats_utils.get_gf_and_pos2annotations(fn, verbose=1)"
   ]
  },
  {
   "cell_type": "markdown",
   "metadata": {},
   "source": [
    "You can chose any of combination of the above parts of speech and grammatical functions to inspect a random example."
   ]
  },
  {
   "cell_type": "code",
   "execution_count": null,
   "metadata": {},
   "outputs": [],
   "source": [
    "random_example = choice(pos_and_gf2annotations[('N', 'Quant')])\n",
    "print(random_example)\n",
    "print(random_example.GF)"
   ]
  },
  {
   "cell_type": "code",
   "execution_count": null,
   "metadata": {},
   "outputs": [],
   "source": []
  },
  {
   "cell_type": "code",
   "execution_count": null,
   "metadata": {},
   "outputs": [],
   "source": []
  }
 ],
 "metadata": {
  "kernelspec": {
   "display_name": "Python 3",
   "language": "python",
   "name": "python3"
  },
  "language_info": {
   "codemirror_mode": {
    "name": "ipython",
    "version": 3
   },
   "file_extension": ".py",
   "mimetype": "text/x-python",
   "name": "python",
   "nbconvert_exporter": "python",
   "pygments_lexer": "ipython3",
   "version": "3.7.2"
  }
 },
 "nbformat": 4,
 "nbformat_minor": 2
}
