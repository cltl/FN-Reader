{
 "cells": [
  {
   "cell_type": "markdown",
   "metadata": {},
   "source": [
    "# Phrase types\n",
    "## TODO: from 4.5 Phrase Type Labels for Clauses forward"
   ]
  },
  {
   "cell_type": "markdown",
   "metadata": {},
   "source": [
    "```Non-referential noun phrases, also called expletives, such as there in There was a row and it in It was\n",
    "raining, are not assigned frame element labels and consequently cannot have phrase types either. Such\n",
    "constituents are marked only on the Other layer.```\\citep[p.53]{ruppenhofer2016framenet}"
   ]
  },
  {
   "cell_type": "markdown",
   "metadata": {},
   "source": [
    "## code imports and function calling"
   ]
  },
  {
   "cell_type": "code",
   "execution_count": 1,
   "metadata": {},
   "outputs": [],
   "source": [
    "from random import choice\n",
    "import utils\n",
    "import stats_utils\n",
    "import networkx as nx\n",
    "from IPython.display import display, HTML\n",
    "from tabulate import tabulate\n",
    "%load_ext autoreload\n",
    "%autoreload 2"
   ]
  },
  {
   "cell_type": "code",
   "execution_count": 2,
   "metadata": {},
   "outputs": [],
   "source": [
    "settings = utils.load_paths(category='phrase-types')"
   ]
  },
  {
   "cell_type": "code",
   "execution_count": 3,
   "metadata": {},
   "outputs": [],
   "source": [
    "fn = stats_utils.load_framenet(version='1.7')"
   ]
  },
  {
   "cell_type": "markdown",
   "metadata": {},
   "source": [
    "## Phrase Types definitions"
   ]
  },
  {
   "cell_type": "code",
   "execution_count": 4,
   "metadata": {},
   "outputs": [
    {
     "data": {
      "text/html": [
       "<table>\n",
       "<thead>\n",
       "<tr><th style=\"text-align: right;\">  </th><th>phrase-types  </th><th>Definition                                                                                                                                                                                                                                                                                                           </th><th>Reference                             </th></tr>\n",
       "</thead>\n",
       "<tbody>\n",
       "<tr><td style=\"text-align: right;\"> 0</td><td>Poss          </td><td>[Possessive Noun Phrase] Possessive NPs, which may either be possessive pronouns or noun phrases marked with ‘s, often express\n",
       "frame elements of predicating nouns.                                                                                                                                                                                                                                                                                                                      </td><td>\\citep[p. 57]{ruppenhofer2016framenet}</td></tr>\n",
       "<tr><td style=\"text-align: right;\"> 1</td><td>N             </td><td>[Non-maximal Nominal] In some situations it is necessary to tag nominal expressions which are not complete (i.e. maximal) noun phrases. For example, consider nominal modifiers of target nouns, as in examples (46) and (47) below, or the modified nouns in sentences showing target adjectives used attributively,</td><td>\\citep[p. 57]{ruppenhofer2016framenet}</td></tr>\n",
       "<tr><td style=\"text-align: right;\"> 2</td><td>NP            </td><td>[Standard Noun Phrase] We treat as standard Noun Phrases all nominals that are not excluded as non-referential noun phrases—recall that these latter are not assigned frame elements, phrase types, and grammatical functions at all—or assigned the phrase type labels possessive (Poss) and non-maximal nominal (N)</td><td>\\citep[p. 58]{ruppenhofer2016framenet}</td></tr>\n",
       "<tr><td style=\"text-align: right;\"> 3</td><td>PP            </td><td>PP is assigned to ordinary prepositional phrases with nominal objects and to particles, the latter under the assumption that particles can be regarded as prepositional phrases which lack objects.                                                                                                                  </td><td>\\citep[p. 58]{ruppenhofer2016framenet}</td></tr>\n",
       "<tr><td style=\"text-align: right;\"> 4</td><td>PPing         </td><td>PPing is assigned to prepositional phrases with gerundial objects rather than nominal ones                                                                                                                                                                                                                           </td><td>\\citep[p. 58]{ruppenhofer2016framenet}</td></tr>\n",
       "<tr><td style=\"text-align: right;\"> 5</td><td>VPfin         </td><td>Any VP containing a verb (including auxiliaries) which (1) expresses information about tense and (2) is not in a separate embedded clause is tagged as a finite VP                                                                                                                                                   </td><td>\\citep[p. 61]{ruppenhofer2016framenet}</td></tr>\n",
       "<tr><td style=\"text-align: right;\"> 6</td><td>VPbrst        </td><td>Bare stem infinitives are non-tensed verb phrases headed by verbs in the bare stem form without the infinitivemarker to                                                                                                                                                                                              </td><td>\\citep[p. 61]{ruppenhofer2016framenet}</td></tr>\n",
       "<tr><td style=\"text-align: right;\"> 7</td><td>VPto          </td><td>To-marked infinitives are VPs that begin with the infinitive marker to. Otherwise they are identical to\n",
       "bare-stem infinitives                                                                                                                                                                                                                                                                                                                      </td><td>\\citep[p. 62]{ruppenhofer2016framenet}</td></tr>\n",
       "<tr><td style=\"text-align: right;\"> 8</td><td>VPtorel       </td><td>Noun-modifying non-finite relative clauses headed by a to-marked VP are marked as VPtorel, regardless of\n",
       "whether they include a wh-word or not.                                                                                                                                                                                                                                                                                                                      </td><td>\\citep[p. 62]{ruppenhofer2016framenet}</td></tr>\n",
       "<tr><td style=\"text-align: right;\"> 9</td><td>VPed          </td><td>Participial Verb Phrases are VPs that begin with a past participle, typically ending in -ed. These phrases usually occur as post-nominal modifiers of target nouns, as in (105) and (106), but are also found as complements\n",
       "of certain control verb targets such as have, as in (107).                                                                                                                                                                                                                                                                                                                      </td><td>\\citep[p. 62]{ruppenhofer2016framenet}</td></tr>\n",
       "<tr><td style=\"text-align: right;\">10</td><td>VPing         </td><td>Gerundive VPs are VPs headed by verbs in the -ing form. They often occur in syntactic contexts in which\n",
       "nominal expressions also occur                                                                                                                                                                                                                                                                                                                      </td><td>\\citep[p. 62]{ruppenhofer2016framenet}</td></tr>\n",
       "</tbody>\n",
       "</table>"
      ],
      "text/plain": [
       "<IPython.core.display.HTML object>"
      ]
     },
     "metadata": {},
     "output_type": "display_data"
    }
   ],
   "source": [
    "definitions_df = utils.load_definitions_in_df(settings)\n",
    "table = tabulate(definitions_df, \n",
    "                 headers='keys', \n",
    "                 tablefmt='html')\n",
    "display(HTML(table))"
   ]
  },
  {
   "cell_type": "markdown",
   "metadata": {},
   "source": [
    "## Inspect Phrase Types with examples"
   ]
  },
  {
   "cell_type": "code",
   "execution_count": null,
   "metadata": {},
   "outputs": [],
   "source": [
    "pt_and_pos2annotations = stats_utils.get_pt_and_pos2annotations(fn, verbose=1)"
   ]
  },
  {
   "cell_type": "code",
   "execution_count": null,
   "metadata": {},
   "outputs": [],
   "source": [
    "annotation = choice(pt_and_pos2annotations[('V', 'VPed')])\n",
    "print(annotation)\n",
    "print(annotation.PT)"
   ]
  },
  {
   "cell_type": "code",
   "execution_count": null,
   "metadata": {},
   "outputs": [],
   "source": []
  },
  {
   "cell_type": "code",
   "execution_count": null,
   "metadata": {},
   "outputs": [],
   "source": []
  }
 ],
 "metadata": {
  "kernelspec": {
   "display_name": "Python 3",
   "language": "python",
   "name": "python3"
  },
  "language_info": {
   "codemirror_mode": {
    "name": "ipython",
    "version": 3
   },
   "file_extension": ".py",
   "mimetype": "text/x-python",
   "name": "python",
   "nbconvert_exporter": "python",
   "pygments_lexer": "ipython3",
   "version": "3.7.2"
  }
 },
 "nbformat": 4,
 "nbformat_minor": 2
}
