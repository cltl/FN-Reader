{
 "cells": [
  {
   "cell_type": "markdown",
   "metadata": {},
   "source": [
    "# FE-to-FE relations\n",
    "Frame elements relations"
   ]
  },
  {
   "cell_type": "markdown",
   "metadata": {},
   "source": [
    "### TODO:\n",
    "* include *FEcoreSets* key"
   ]
  },
  {
   "cell_type": "markdown",
   "metadata": {},
   "source": [
    "### Observations"
   ]
  },
  {
   "cell_type": "markdown",
   "metadata": {},
   "source": [
    "The **Requires** and **Excludes** appear to be symmetric, but **Excludes** does not seem to be always represented as such in the NLTK package, e.g., see the **Attaching (197)** frame."
   ]
  },
  {
   "cell_type": "code",
   "execution_count": 2,
   "metadata": {},
   "outputs": [],
   "source": [
    "import stats_utils\n",
    "fn = stats_utils.load_framenet(version='1.7')"
   ]
  },
  {
   "cell_type": "code",
   "execution_count": 3,
   "metadata": {},
   "outputs": [],
   "source": [
    "attaching = fn.frame_by_name('Attaching')"
   ]
  },
  {
   "cell_type": "code",
   "execution_count": 4,
   "metadata": {},
   "outputs": [
    {
     "data": {
      "text/plain": [
       "frame element (1606): Item\n",
       "    of Attaching(197)\n",
       "[definition]\n",
       "  This FE identifies the Item that the Agent attaches to the Goal.\n",
       "  'The robber tied Harry to the chair.'\n",
       "[abbrev] Item\n",
       "[coreType] Core\n",
       "[requiresFE] Goal(2195)\n",
       "[excludesFE] Items(2197)\n",
       "[semType] <None>"
      ]
     },
     "execution_count": 4,
     "metadata": {},
     "output_type": "execute_result"
    }
   ],
   "source": [
    "attaching.FE.Item"
   ]
  },
  {
   "cell_type": "code",
   "execution_count": 5,
   "metadata": {},
   "outputs": [
    {
     "data": {
      "text/plain": [
       "frame element (2195): Goal\n",
       "    of Attaching(197)\n",
       "[definition]\n",
       "  Goal identifies the location to which an Item is attached. 'The\n",
       "  robber tied Harry to the chair.'\n",
       "[abbrev] Goal\n",
       "[coreType] Core\n",
       "[requiresFE] Item(1606)\n",
       "[excludesFE] Items(2197)\n",
       "[semType] \n",
       "  Goal(153)"
      ]
     },
     "execution_count": 5,
     "metadata": {},
     "output_type": "execute_result"
    }
   ],
   "source": [
    "attaching.FE.Goal"
   ]
  },
  {
   "cell_type": "code",
   "execution_count": 6,
   "metadata": {},
   "outputs": [
    {
     "data": {
      "text/plain": [
       "frame element (2197): Items\n",
       "    of Attaching(197)\n",
       "[definition]\n",
       "  This FE identifies the plural Items that are tied together,\n",
       "  resulting in their mutual attachment. 'The robber tied Harry's\n",
       "  ankles together.'  Notice that when the FE Items occurs, neither\n",
       "  Item nor Goal can occur.\n",
       "[abbrev] Items\n",
       "[coreType] Core\n",
       "[requiresFE] <None>\n",
       "[excludesFE] <None>\n",
       "[semType] <None>"
      ]
     },
     "execution_count": 6,
     "metadata": {},
     "output_type": "execute_result"
    }
   ],
   "source": [
    "attaching.FE.Items"
   ]
  },
  {
   "cell_type": "markdown",
   "metadata": {},
   "source": [
    "## Imports and function calling"
   ]
  },
  {
   "cell_type": "code",
   "execution_count": 7,
   "metadata": {},
   "outputs": [],
   "source": [
    "import utils\n",
    "import visualization_utils\n",
    "import networkx as nx\n",
    "import nltk\n",
    "from IPython.display import display, HTML\n",
    "from tabulate import tabulate\n",
    "%load_ext autoreload\n",
    "%autoreload 2"
   ]
  },
  {
   "cell_type": "code",
   "execution_count": 8,
   "metadata": {},
   "outputs": [],
   "source": [
    "settings = utils.load_paths(category='fe-to-fe-relations')"
   ]
  },
  {
   "cell_type": "markdown",
   "metadata": {},
   "source": [
    "## FE-to-FE relation definitions"
   ]
  },
  {
   "cell_type": "code",
   "execution_count": 9,
   "metadata": {},
   "outputs": [
    {
     "data": {
      "text/html": [
       "<table>\n",
       "<thead>\n",
       "<tr><th style=\"text-align: right;\">  </th><th>fe-to-fe-relations  </th><th>Definition                                                                                                                                                               </th><th>Reference                             </th></tr>\n",
       "</thead>\n",
       "<tbody>\n",
       "<tr><td style=\"text-align: right;\"> 0</td><td>coreness set        </td><td>we often find that some groups of FEs seem to act like sets, in that the presence of any member of the set is sufficient to satisfy a semantic valence of the predicator.</td><td>\\citep[p. 25]{ruppenhofer2016framenet}</td></tr>\n",
       "<tr><td style=\"text-align: right;\"> 1</td><td>requires            </td><td>In some cases, the occurrence of one core FE requires that another core FE occur as well.                                                                                </td><td>\\citep[p. 26]{ruppenhofer2016framenet}</td></tr>\n",
       "<tr><td style=\"text-align: right;\"> 2</td><td>excludes            </td><td>In some cases, if one of the FEs in a group of conceptually related FEs shows up, no other FE from that group can                                                        </td><td>\\citep[p. 26]{ruppenhofer2016framenet}</td></tr>\n",
       "</tbody>\n",
       "</table>"
      ],
      "text/plain": [
       "<IPython.core.display.HTML object>"
      ]
     },
     "metadata": {},
     "output_type": "display_data"
    }
   ],
   "source": [
    "definitions_df = utils.load_definitions_in_df(settings)\n",
    "table = tabulate(definitions_df, \n",
    "                 headers='keys', \n",
    "                 tablefmt='html')\n",
    "display(HTML(table))"
   ]
  },
  {
   "cell_type": "markdown",
   "metadata": {},
   "source": [
    "## Plot Frame element relations"
   ]
  },
  {
   "cell_type": "code",
   "execution_count": 10,
   "metadata": {},
   "outputs": [
    {
     "name": "stdout",
     "output_type": "stream",
     "text": [
      "Attaching\n"
     ]
    }
   ],
   "source": [
    "frame = fn.frame_by_id(197) # 64, 197\n",
    "print(frame.name)"
   ]
  },
  {
   "cell_type": "code",
   "execution_count": 11,
   "metadata": {},
   "outputs": [
    {
     "data": {
      "text/plain": [
       "'dotgraphs/frame.gv.pdf'"
      ]
     },
     "execution_count": 11,
     "metadata": {},
     "output_type": "execute_result"
    }
   ],
   "source": [
    "g = visualization_utils.plot_fe_relations_of_frame(frame)\n",
    "g.view()"
   ]
  },
  {
   "cell_type": "code",
   "execution_count": null,
   "metadata": {},
   "outputs": [],
   "source": []
  },
  {
   "cell_type": "code",
   "execution_count": null,
   "metadata": {},
   "outputs": [],
   "source": []
  }
 ],
 "metadata": {
  "kernelspec": {
   "display_name": "Python 3",
   "language": "python",
   "name": "python3"
  },
  "language_info": {
   "codemirror_mode": {
    "name": "ipython",
    "version": 3
   },
   "file_extension": ".py",
   "mimetype": "text/x-python",
   "name": "python",
   "nbconvert_exporter": "python",
   "pygments_lexer": "ipython3",
   "version": "3.7.2"
  }
 },
 "nbformat": 4,
 "nbformat_minor": 2
}
