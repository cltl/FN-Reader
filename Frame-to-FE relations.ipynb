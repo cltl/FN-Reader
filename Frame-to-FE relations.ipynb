{
 "cells": [
  {
   "cell_type": "markdown",
   "metadata": {},
   "source": [
    "# Frame-to-FE relations\n",
    "Frame to frame element relations\n",
    "\n",
    "### TODO\n",
    "* how is **coreness set** represented?\n"
   ]
  },
  {
   "cell_type": "markdown",
   "metadata": {},
   "source": [
    "Each Frame element (FE) is classified according to how central they to the frame."
   ]
  },
  {
   "cell_type": "markdown",
   "metadata": {},
   "source": [
    "Formal properties **core**:\n",
    "* When an element always has to be overtly specified, it is core. \n",
    "* A frame element which, when omitted, receives a definite interpretation, is also core\n",
    "* [to investigate] A frame element whose semantics cannot be predicted from its form"
   ]
  },
  {
   "cell_type": "markdown",
   "metadata": {},
   "source": [
    "## Imports and function calling"
   ]
  },
  {
   "cell_type": "code",
   "execution_count": 1,
   "metadata": {},
   "outputs": [],
   "source": [
    "import utils\n",
    "import stats_utils\n",
    "import networkx as nx\n",
    "from IPython.display import display, HTML\n",
    "from tabulate import tabulate\n",
    "from collections import Counter\n",
    "import pandas\n",
    "import operator\n",
    "%load_ext autoreload\n",
    "%autoreload 2"
   ]
  },
  {
   "cell_type": "code",
   "execution_count": 2,
   "metadata": {},
   "outputs": [],
   "source": [
    "settings = utils.load_paths(category='frame-to-fe-relations')"
   ]
  },
  {
   "cell_type": "code",
   "execution_count": 3,
   "metadata": {},
   "outputs": [],
   "source": [
    "fn = stats_utils.load_framenet(version='1.7')"
   ]
  },
  {
   "cell_type": "markdown",
   "metadata": {},
   "source": [
    "## Frame-to-FE relation definitions"
   ]
  },
  {
   "cell_type": "code",
   "execution_count": 4,
   "metadata": {},
   "outputs": [
    {
     "data": {
      "text/html": [
       "<table>\n",
       "<thead>\n",
       "<tr><th style=\"text-align: right;\">  </th><th>frame-to-fe-relations  </th><th>Definition                                                                                                                                                                                                                                                                                           </th><th>Reference                             </th></tr>\n",
       "</thead>\n",
       "<tbody>\n",
       "<tr><td style=\"text-align: right;\"> 0</td><td>core                   </td><td>A core frame element is one that instantiates a conceptually necessary component of a frame, while making the frame unique and different from other frames.                                                                                                                                          </td><td>\\citep[p. 23]{ruppenhofer2016framenet}</td></tr>\n",
       "<tr><td style=\"text-align: right;\"> 1</td><td>peripheral             </td><td>Frame elements that do not introduce additional, independent or distinct events from the main reported event are characterized as peripheral                                                                                                                                                         </td><td>\\citep[p. 24]{ruppenhofer2016framenet}</td></tr>\n",
       "<tr><td style=\"text-align: right;\"> 2</td><td>extra-thematic         </td><td>Extra-thematic frame elements situate an event against a backdrop of another state of affairs, either of an actual event or state of the same type, as illustrated with Iteration, or by evoking a larger frame within which the reported state of affairs is embedded, as shown for Containing event</td><td>\\citep[p. 24]{ruppenhofer2016framenet}</td></tr>\n",
       "<tr><td style=\"text-align: right;\"> 3</td><td>core-unexpressed       </td><td>It is assigned to FEs that behave like core frame elements in the frame where they are marked as Core-unexpressed but which, counter to expectation, may not be used for annotation in descendants of that frame. Frame elements marked as core-unexpressed\n",
       "will thus not necessarily be listed among the FEs in descendant frames.                                                                                                                                                                                                                                                                                                      </td><td>\\citep[p. 25]{ruppenhofer2016framenet}</td></tr>\n",
       "</tbody>\n",
       "</table>"
      ],
      "text/plain": [
       "<IPython.core.display.HTML object>"
      ]
     },
     "metadata": {},
     "output_type": "display_data"
    }
   ],
   "source": [
    "definitions_df = utils.load_definitions_in_df(settings)\n",
    "table = tabulate(definitions_df, \n",
    "                 headers='keys', \n",
    "                 tablefmt='html')\n",
    "display(HTML(table))"
   ]
  },
  {
   "cell_type": "markdown",
   "metadata": {},
   "source": [
    "## Relation frame to # of FEs of each Coreness level"
   ]
  },
  {
   "cell_type": "markdown",
   "metadata": {},
   "source": [
    "Each frame possibly links to a number of FEs. Below, we describe the statistics regarding the number of FEs of each Coreness level."
   ]
  },
  {
   "cell_type": "code",
   "execution_count": 5,
   "metadata": {},
   "outputs": [
    {
     "data": {
      "text/html": [
       "<div>\n",
       "<style scoped>\n",
       "    .dataframe tbody tr th:only-of-type {\n",
       "        vertical-align: middle;\n",
       "    }\n",
       "\n",
       "    .dataframe tbody tr th {\n",
       "        vertical-align: top;\n",
       "    }\n",
       "\n",
       "    .dataframe thead th {\n",
       "        text-align: right;\n",
       "    }\n",
       "</style>\n",
       "<table border=\"1\" class=\"dataframe\">\n",
       "  <thead>\n",
       "    <tr style=\"text-align: right;\">\n",
       "      <th></th>\n",
       "      <th>Frame ID</th>\n",
       "      <th>total # of FEs</th>\n",
       "      <th># of Core</th>\n",
       "      <th># of Core-Unexpressed</th>\n",
       "      <th># of Extra-Thematic</th>\n",
       "      <th># of Peripheral</th>\n",
       "    </tr>\n",
       "  </thead>\n",
       "  <tbody>\n",
       "    <tr>\n",
       "      <th>count</th>\n",
       "      <td>1221.000000</td>\n",
       "      <td>1221.000000</td>\n",
       "      <td>1221.000000</td>\n",
       "      <td>1221.000000</td>\n",
       "      <td>1221.000000</td>\n",
       "      <td>1221.000000</td>\n",
       "    </tr>\n",
       "    <tr>\n",
       "      <th>mean</th>\n",
       "      <td>1304.665029</td>\n",
       "      <td>9.359541</td>\n",
       "      <td>2.867322</td>\n",
       "      <td>0.100737</td>\n",
       "      <td>2.277641</td>\n",
       "      <td>4.113841</td>\n",
       "    </tr>\n",
       "    <tr>\n",
       "      <th>std</th>\n",
       "      <td>937.618966</td>\n",
       "      <td>4.831858</td>\n",
       "      <td>1.497130</td>\n",
       "      <td>0.425238</td>\n",
       "      <td>2.645268</td>\n",
       "      <td>2.848522</td>\n",
       "    </tr>\n",
       "    <tr>\n",
       "      <th>min</th>\n",
       "      <td>5.000000</td>\n",
       "      <td>1.000000</td>\n",
       "      <td>0.000000</td>\n",
       "      <td>0.000000</td>\n",
       "      <td>0.000000</td>\n",
       "      <td>0.000000</td>\n",
       "    </tr>\n",
       "    <tr>\n",
       "      <th>25%</th>\n",
       "      <td>335.000000</td>\n",
       "      <td>5.000000</td>\n",
       "      <td>2.000000</td>\n",
       "      <td>0.000000</td>\n",
       "      <td>0.000000</td>\n",
       "      <td>2.000000</td>\n",
       "    </tr>\n",
       "    <tr>\n",
       "      <th>50%</th>\n",
       "      <td>1342.000000</td>\n",
       "      <td>9.000000</td>\n",
       "      <td>3.000000</td>\n",
       "      <td>0.000000</td>\n",
       "      <td>1.000000</td>\n",
       "      <td>4.000000</td>\n",
       "    </tr>\n",
       "    <tr>\n",
       "      <th>75%</th>\n",
       "      <td>2055.000000</td>\n",
       "      <td>13.000000</td>\n",
       "      <td>4.000000</td>\n",
       "      <td>0.000000</td>\n",
       "      <td>4.000000</td>\n",
       "      <td>6.000000</td>\n",
       "    </tr>\n",
       "    <tr>\n",
       "      <th>max</th>\n",
       "      <td>3020.000000</td>\n",
       "      <td>32.000000</td>\n",
       "      <td>11.000000</td>\n",
       "      <td>6.000000</td>\n",
       "      <td>18.000000</td>\n",
       "      <td>14.000000</td>\n",
       "    </tr>\n",
       "  </tbody>\n",
       "</table>\n",
       "</div>"
      ],
      "text/plain": [
       "          Frame ID  total # of FEs    # of Core  # of Core-Unexpressed  \\\n",
       "count  1221.000000     1221.000000  1221.000000            1221.000000   \n",
       "mean   1304.665029        9.359541     2.867322               0.100737   \n",
       "std     937.618966        4.831858     1.497130               0.425238   \n",
       "min       5.000000        1.000000     0.000000               0.000000   \n",
       "25%     335.000000        5.000000     2.000000               0.000000   \n",
       "50%    1342.000000        9.000000     3.000000               0.000000   \n",
       "75%    2055.000000       13.000000     4.000000               0.000000   \n",
       "max    3020.000000       32.000000    11.000000               6.000000   \n",
       "\n",
       "       # of Extra-Thematic  # of Peripheral  \n",
       "count          1221.000000      1221.000000  \n",
       "mean              2.277641         4.113841  \n",
       "std               2.645268         2.848522  \n",
       "min               0.000000         0.000000  \n",
       "25%               0.000000         2.000000  \n",
       "50%               1.000000         4.000000  \n",
       "75%               4.000000         6.000000  \n",
       "max              18.000000        14.000000  "
      ]
     },
     "execution_count": 5,
     "metadata": {},
     "output_type": "execute_result"
    }
   ],
   "source": [
    "df = stats_utils.df_frame2num_of_fe_types(fn)\n",
    "df.describe()"
   ]
  },
  {
   "cell_type": "code",
   "execution_count": 6,
   "metadata": {},
   "outputs": [
    {
     "name": "stdout",
     "output_type": "stream",
     "text": [
      "\\begin{tabular}{rl}\n",
      "\\toprule\n",
      " \\# Core roles &             \\% \\\\\n",
      "\\midrule\n",
      "            2 &  29.48\\% (360) \\\\\n",
      "            3 &  28.01\\% (342) \\\\\n",
      "            1 &  15.56\\% (190) \\\\\n",
      "            4 &  13.92\\% (170) \\\\\n",
      "            5 &    7.13\\% (87) \\\\\n",
      "            6 &    3.19\\% (39) \\\\\n",
      "            7 &    1.06\\% (13) \\\\\n",
      "            8 &     0.49\\% (6) \\\\\n",
      "            0 &     0.49\\% (6) \\\\\n",
      "            9 &     0.33\\% (4) \\\\\n",
      "           10 &     0.25\\% (3) \\\\\n",
      "           11 &     0.08\\% (1) \\\\\n",
      "\\bottomrule\n",
      "\\end{tabular}\n",
      "\n"
     ]
    }
   ],
   "source": [
    "lists_of_lists = []\n",
    "headers = ['# Core roles', '%']\n",
    "\n",
    "counts = Counter(df['# of Core'])\n",
    "total = sum(counts.values())\n",
    "\n",
    "for num_of_core, freq in sorted(counts.items(), \n",
    "                        key=operator.itemgetter(1),\n",
    "                        reverse=True):\n",
    "    \n",
    "    perc = 100 * (freq / total)\n",
    "    value = f'{round(perc, 2)}% ({freq})'\n",
    "    \n",
    "    one_row = [num_of_core, value]\n",
    "        \n",
    "    lists_of_lists.append(one_row)\n",
    "\n",
    "df = pandas.DataFrame(lists_of_lists, columns=headers)\n",
    "print(df.to_latex(index=False))"
   ]
  },
  {
   "cell_type": "markdown",
   "metadata": {},
   "source": [
    "## Relation FE to number of frames"
   ]
  },
  {
   "cell_type": "code",
   "execution_count": 7,
   "metadata": {},
   "outputs": [],
   "source": [
    "fe2num_frames = stats_utils.df_fe2num_frames(fn)"
   ]
  },
  {
   "cell_type": "code",
   "execution_count": 8,
   "metadata": {},
   "outputs": [
    {
     "data": {
      "text/html": [
       "<div>\n",
       "<style scoped>\n",
       "    .dataframe tbody tr th:only-of-type {\n",
       "        vertical-align: middle;\n",
       "    }\n",
       "\n",
       "    .dataframe tbody tr th {\n",
       "        vertical-align: top;\n",
       "    }\n",
       "\n",
       "    .dataframe thead th {\n",
       "        text-align: right;\n",
       "    }\n",
       "</style>\n",
       "<table border=\"1\" class=\"dataframe\">\n",
       "  <thead>\n",
       "    <tr style=\"text-align: right;\">\n",
       "      <th></th>\n",
       "      <th># of Frame IDs</th>\n",
       "    </tr>\n",
       "  </thead>\n",
       "  <tbody>\n",
       "    <tr>\n",
       "      <th>count</th>\n",
       "      <td>1285.000000</td>\n",
       "    </tr>\n",
       "    <tr>\n",
       "      <th>mean</th>\n",
       "      <td>8.893385</td>\n",
       "    </tr>\n",
       "    <tr>\n",
       "      <th>std</th>\n",
       "      <td>46.281345</td>\n",
       "    </tr>\n",
       "    <tr>\n",
       "      <th>min</th>\n",
       "      <td>1.000000</td>\n",
       "    </tr>\n",
       "    <tr>\n",
       "      <th>25%</th>\n",
       "      <td>1.000000</td>\n",
       "    </tr>\n",
       "    <tr>\n",
       "      <th>50%</th>\n",
       "      <td>1.000000</td>\n",
       "    </tr>\n",
       "    <tr>\n",
       "      <th>75%</th>\n",
       "      <td>3.000000</td>\n",
       "    </tr>\n",
       "    <tr>\n",
       "      <th>max</th>\n",
       "      <td>818.000000</td>\n",
       "    </tr>\n",
       "  </tbody>\n",
       "</table>\n",
       "</div>"
      ],
      "text/plain": [
       "       # of Frame IDs\n",
       "count     1285.000000\n",
       "mean         8.893385\n",
       "std         46.281345\n",
       "min          1.000000\n",
       "25%          1.000000\n",
       "50%          1.000000\n",
       "75%          3.000000\n",
       "max        818.000000"
      ]
     },
     "execution_count": 8,
     "metadata": {},
     "output_type": "execute_result"
    }
   ],
   "source": [
    "fe2num_frames.describe()"
   ]
  },
  {
   "cell_type": "code",
   "execution_count": 9,
   "metadata": {},
   "outputs": [
    {
     "data": {
      "text/html": [
       "<div>\n",
       "<style scoped>\n",
       "    .dataframe tbody tr th:only-of-type {\n",
       "        vertical-align: middle;\n",
       "    }\n",
       "\n",
       "    .dataframe tbody tr th {\n",
       "        vertical-align: top;\n",
       "    }\n",
       "\n",
       "    .dataframe thead th {\n",
       "        text-align: right;\n",
       "    }\n",
       "</style>\n",
       "<table border=\"1\" class=\"dataframe\">\n",
       "  <thead>\n",
       "    <tr style=\"text-align: right;\">\n",
       "      <th></th>\n",
       "      <th>FE</th>\n",
       "      <th>Frame IDs</th>\n",
       "      <th># of Frame IDs</th>\n",
       "    </tr>\n",
       "  </thead>\n",
       "  <tbody>\n",
       "    <tr>\n",
       "      <th>3</th>\n",
       "      <td>Time</td>\n",
       "      <td>{2048, 2049, 2050, 2051, 2052, 5, 6, 2054, 205...</td>\n",
       "      <td>818</td>\n",
       "    </tr>\n",
       "    <tr>\n",
       "      <th>2</th>\n",
       "      <td>Place</td>\n",
       "      <td>{5, 6, 2054, 2055, 7, 2056, 11, 12, 13, 2061, ...</td>\n",
       "      <td>685</td>\n",
       "    </tr>\n",
       "    <tr>\n",
       "      <th>4</th>\n",
       "      <td>Manner</td>\n",
       "      <td>{2048, 2049, 2050, 2051, 2052, 5, 6, 2054, 205...</td>\n",
       "      <td>663</td>\n",
       "    </tr>\n",
       "    <tr>\n",
       "      <th>8</th>\n",
       "      <td>Degree</td>\n",
       "      <td>{2048, 2049, 2050, 2051, 2052, 7, 11, 12, 13, ...</td>\n",
       "      <td>479</td>\n",
       "    </tr>\n",
       "    <tr>\n",
       "      <th>9</th>\n",
       "      <td>Means</td>\n",
       "      <td>{5, 6, 2054, 10, 11, 12, 13, 15, 17, 20, 21, 2...</td>\n",
       "      <td>450</td>\n",
       "    </tr>\n",
       "  </tbody>\n",
       "</table>\n",
       "</div>"
      ],
      "text/plain": [
       "       FE                                          Frame IDs  # of Frame IDs\n",
       "3    Time  {2048, 2049, 2050, 2051, 2052, 5, 6, 2054, 205...             818\n",
       "2   Place  {5, 6, 2054, 2055, 7, 2056, 11, 12, 13, 2061, ...             685\n",
       "4  Manner  {2048, 2049, 2050, 2051, 2052, 5, 6, 2054, 205...             663\n",
       "8  Degree  {2048, 2049, 2050, 2051, 2052, 7, 11, 12, 13, ...             479\n",
       "9   Means  {5, 6, 2054, 10, 11, 12, 13, 15, 17, 20, 21, 2...             450"
      ]
     },
     "execution_count": 9,
     "metadata": {},
     "output_type": "execute_result"
    }
   ],
   "source": [
    "most_frequent = fe2num_frames.sort_values(['# of Frame IDs'], ascending=False)\n",
    "most_frequent.head()"
   ]
  },
  {
   "cell_type": "markdown",
   "metadata": {},
   "source": [
    "## TODO: Relation FE to Coreness level\n",
    "In how many frames is the **Agent** the core?\n",
    "\n",
    "entropy?"
   ]
  }
 ],
 "metadata": {
  "kernelspec": {
   "display_name": "Python 3",
   "language": "python",
   "name": "python3"
  },
  "language_info": {
   "codemirror_mode": {
    "name": "ipython",
    "version": 3
   },
   "file_extension": ".py",
   "mimetype": "text/x-python",
   "name": "python",
   "nbconvert_exporter": "python",
   "pygments_lexer": "ipython3",
   "version": "3.7.2"
  }
 },
 "nbformat": 4,
 "nbformat_minor": 2
}
