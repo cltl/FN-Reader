{
 "cells": [
  {
   "cell_type": "markdown",
   "metadata": {},
   "source": [
    "# Frame to frame relations\n",
    "English FrameNet contains relations between frames, so called frame-to-frame relations. Each frame relation is **asymmetric**. The relation is between a **Super_frame** (more abstract) frame to a **Sub_frame** (less abstract).\n",
    "\n",
    "For each relation, a more informative name is given for the **Super** and **Sub** frames.\n",
    "\n",
    "Generally, each frame has one relation to another frame."
   ]
  },
  {
   "cell_type": "markdown",
   "metadata": {},
   "source": [
    "## motivation\n",
    "There are two main benefits to have this type of relation:\n",
    "* it improves the understanding of frames since its relation to other frames is defined.\n",
    "* it clarifies how frame division were made"
   ]
  },
  {
   "cell_type": "markdown",
   "metadata": {},
   "source": [
    "## Frame relations"
   ]
  },
  {
   "cell_type": "markdown",
   "metadata": {},
   "source": [
    "### Extra information about 'Inheritance'"
   ]
  },
  {
   "cell_type": "markdown",
   "metadata": {},
   "source": [
    "``Inheritance is the strongest relation between frames, corresponding to is-a in many ontologies. The basic\n",
    "idea of this relation is that each semantic fact about the parent must correspond to an equally specific or\n",
    "more specific fact about the child.`` \\citep[p.81]{ruppenhofer2016framenet}\n",
    "\n",
    "However, this is not always the case:\n",
    "1. the extra-thematic FEs of parent and child frames may be different.\n",
    "* a child frame may have FEs not part of the parent frame\n",
    "* a child frame does not contain FEs of the parent of the type *Core-unexpressed*, which means that this is implicit in the child\n",
    "* two FEs of a parent may combine into one FE of the child.\n",
    "* FEs of a parent frame that are in a Core-set or Excludes relation. Child may inherit a subset of the Core-set.\n",
    "* all frame-to-frame relations, except **See_also**, inherit from the parent (and futher along the tree) of the parent."
   ]
  },
  {
   "cell_type": "markdown",
   "metadata": {},
   "source": [
    "## code imports and function calling"
   ]
  },
  {
   "cell_type": "code",
   "execution_count": 1,
   "metadata": {},
   "outputs": [],
   "source": [
    "import utils\n",
    "import stats_utils\n",
    "import networkx as nx\n",
    "from IPython.display import display, HTML\n",
    "from tabulate import tabulate\n",
    "%load_ext autoreload\n",
    "%autoreload 2"
   ]
  },
  {
   "cell_type": "code",
   "execution_count": 2,
   "metadata": {},
   "outputs": [],
   "source": [
    "settings = utils.load_paths(category='frame-to-frame-relations')"
   ]
  },
  {
   "cell_type": "code",
   "execution_count": 3,
   "metadata": {},
   "outputs": [],
   "source": [
    "fn = stats_utils.load_framenet(version='1.7')"
   ]
  },
  {
   "cell_type": "markdown",
   "metadata": {},
   "source": [
    "## Frame-to-Frame relations definitions"
   ]
  },
  {
   "cell_type": "code",
   "execution_count": 4,
   "metadata": {},
   "outputs": [
    {
     "data": {
      "text/html": [
       "<table>\n",
       "<thead>\n",
       "<tr><th style=\"text-align: right;\">  </th><th>frame-to-frame-relations  </th><th>Definition                                                                                                                                                                                                                                                                             </th><th>Reference                             </th></tr>\n",
       "</thead>\n",
       "<tbody>\n",
       "<tr><td style=\"text-align: right;\"> 0</td><td>Inheritance               </td><td>[Super=Parent, Sub=Child] Inheritance is the strongest relation between frames, corresponding to is-a in many ontologies. The basic idea of this relation is that each semantic fact about the parent must correspond to an equally specific or more specific fact about the child.    </td><td>\\citep[p. 80]{ruppenhofer2016framenet}</td></tr>\n",
       "<tr><td style=\"text-align: right;\"> 1</td><td>Perspective_on            </td><td>[Super=Neutral, Sub=Perspectivized] The use of this relation indicates the presence of at least two different possible points-of-view on the Neutral frame                                                                                                                             </td><td>\\citep[p. 82]{ruppenhofer2016framenet}</td></tr>\n",
       "<tr><td style=\"text-align: right;\"> 2</td><td>Using                     </td><td>[Super=Parent, Sub=Child] Often a particular frame makes reference in a very general kind of way to the structure of a more abstract,schematic frame. Since the creation of the more specific Perspective on relation (see Sec. 6.1.2), FrameNet uses the Using relation almost exclusively for cases in which a part of the scene evoked by the child refers to\n",
       "the parent frame.                                                                                                                                                                                                                                                                                        </td><td>\\citep[p. 83]{ruppenhofer2016framenet}</td></tr>\n",
       "<tr><td style=\"text-align: right;\"> 3</td><td>SubFrame                  </td><td>[Super=Complex,Sub=Component]Some frames are complex in that they refer to sequences of states and transitions, each of which can itself be separately described as a frame. The separate frames (called subframes) are related to the complex frames via the SubFrame relation.       </td><td>\\citep[p. 83]{ruppenhofer2016framenet}</td></tr>\n",
       "<tr><td style=\"text-align: right;\"> 4</td><td>Precedes                  </td><td>[Super=Earlier, Sub=Later]This relation occurs only between two Component frames of a single Complex frame, i.e. as extra information associated with a set of Subframe relations. It specifies the sequence of states and events that are definitional for a certain state-of-affairs.</td><td>\\citep[p. 84]{ruppenhofer2016framenet}</td></tr>\n",
       "<tr><td style=\"text-align: right;\"> 5</td><td>Causative_of              </td><td>[Super=Causative, Sub=Inchoative/Stative] Super causes Sub                                                                                                                                                                                                                             </td><td>\\citep[p. 85]{ruppenhofer2016framenet}</td></tr>\n",
       "<tr><td style=\"text-align: right;\"> 6</td><td>Inchoative_of             </td><td>[Super=Inchoative, Sub=Stative] something causes Sub                                                                                                                                                                                                                                   </td><td>\\citep[p. 85]{ruppenhofer2016framenet}</td></tr>\n",
       "<tr><td style=\"text-align: right;\"> 7</td><td>Metaphor                  </td><td>[Super=Source, Sub=Target] Metaphor is a relation between a Source frame and a Target frame in which many or all of the LUs in the Target frame are understood at least partially in terms of the Source frame.                                                                        </td><td>\\citep[p. 85]{ruppenhofer2016framenet}</td></tr>\n",
       "<tr><td style=\"text-align: right;\"> 8</td><td>See_also                  </td><td>[Super=MainEntry, Sub=ReferringEntry] In cases where there are groups of frames that are similar and should be carefully differentiated, compared, and contrasted, each of the frames in question has a SeeAlso relation with a representative member of the group.                    </td><td>\\citep[p. 85]{ruppenhofer2016framenet}</td></tr>\n",
       "</tbody>\n",
       "</table>"
      ],
      "text/plain": [
       "<IPython.core.display.HTML object>"
      ]
     },
     "metadata": {},
     "output_type": "display_data"
    }
   ],
   "source": [
    "definitions_df = utils.load_definitions_in_df(settings)\n",
    "table = tabulate(definitions_df, \n",
    "                 headers='keys', \n",
    "                 tablefmt='html')\n",
    "display(HTML(table))"
   ]
  },
  {
   "cell_type": "markdown",
   "metadata": {},
   "source": [
    "## Stats"
   ]
  },
  {
   "cell_type": "code",
   "execution_count": 5,
   "metadata": {},
   "outputs": [],
   "source": [
    "G = stats_utils.load_frame_relations_as_directed_graph(fn, subset_of_relations={'Inheritance'})"
   ]
  },
  {
   "cell_type": "code",
   "execution_count": 6,
   "metadata": {},
   "outputs": [
    {
     "name": "stdout",
     "output_type": "stream",
     "text": [
      "Name: \n",
      "Type: DiGraph\n",
      "Number of nodes: 823\n",
      "Number of edges: 781\n",
      "Average in degree:   0.9490\n",
      "Average out degree:   0.9490\n"
     ]
    }
   ],
   "source": [
    "print(nx.info(G))"
   ]
  },
  {
   "cell_type": "code",
   "execution_count": 7,
   "metadata": {},
   "outputs": [
    {
     "data": {
      "text/plain": [
       "defaultdict(set,\n",
       "            {1: {'Activity_finish',\n",
       "              'Assemble',\n",
       "              'Assistance',\n",
       "              'Atonement',\n",
       "              'Attempt',\n",
       "              'Attempting_and_resolving_scenario',\n",
       "              'Attending',\n",
       "              'Avoiding',\n",
       "              'Bail_decision',\n",
       "              'Becoming_a_member',\n",
       "              'Change_posture',\n",
       "              'Change_tool',\n",
       "              'Choosing',\n",
       "              'Clemency',\n",
       "              'Collaboration',\n",
       "              'Confronting_problem',\n",
       "              'Contacting',\n",
       "              'Daring',\n",
       "              'Examination',\n",
       "              'Exchange',\n",
       "              'Execute_plan',\n",
       "              'Exercising',\n",
       "              'Forming_relationships',\n",
       "              'Front_for',\n",
       "              'Get_a_job',\n",
       "              'Giving',\n",
       "              'Heralding',\n",
       "              'Hostile_encounter',\n",
       "              'Ingest_substance',\n",
       "              'Intentionally_affect',\n",
       "              'Intentionally_create',\n",
       "              'Intercepting',\n",
       "              'Legal_rulings',\n",
       "              'Manipulation',\n",
       "              'Military_operation',\n",
       "              'Name_conferral',\n",
       "              'Passing_off',\n",
       "              'Perception_active',\n",
       "              'Piracy',\n",
       "              'Practice',\n",
       "              'Quitting',\n",
       "              'Resolve_problem',\n",
       "              'Self_motion',\n",
       "              'Visiting',\n",
       "              'Working_a_post'},\n",
       "             2: {'Abandonment',\n",
       "              'Achieving_first',\n",
       "              'Adjusting',\n",
       "              'Aiming',\n",
       "              'Apply_heat',\n",
       "              'Appointing',\n",
       "              'Arranging',\n",
       "              'Arrest',\n",
       "              'Attaching',\n",
       "              'Attack',\n",
       "              'Attempt_distant_interaction_scenario',\n",
       "              'Attempt_obtain_food_scenario',\n",
       "              'Attempt_obtain_mineral_scenario',\n",
       "              'Attempt_suasion',\n",
       "              'Breaking_out_captive',\n",
       "              'Building',\n",
       "              'Cause_emotion',\n",
       "              'Cause_to_amalgamate',\n",
       "              'Cause_to_experience',\n",
       "              'Cause_to_make_progress',\n",
       "              'Cause_to_perceive',\n",
       "              'Change_accessibility',\n",
       "              'Change_operational_state',\n",
       "              'Closure',\n",
       "              'Commerce_pay',\n",
       "              'Commerce_sell',\n",
       "              'Cooking_creation',\n",
       "              'Cotheme',\n",
       "              'Create_physical_artwork',\n",
       "              'Cutting',\n",
       "              'Detaching',\n",
       "              'Dodging',\n",
       "              'Duplication',\n",
       "              'Education_teaching',\n",
       "              'Enforcing',\n",
       "              'Evading',\n",
       "              'Extradition',\n",
       "              'Fighting_activity',\n",
       "              'Finish_game',\n",
       "              'Firing',\n",
       "              'Fleeing',\n",
       "              'Gathering_up',\n",
       "              'Grooming',\n",
       "              'Hiding_objects',\n",
       "              'Hiring',\n",
       "              'Hit_target',\n",
       "              'Immobilization',\n",
       "              'Ingestion',\n",
       "              'Inhibit_movement',\n",
       "              'Intentional_traversing',\n",
       "              'Knot_creation',\n",
       "              'Lending',\n",
       "              'Limiting',\n",
       "              'Making_arrangements',\n",
       "              'Manipulate_into_doing',\n",
       "              'Manipulate_into_shape',\n",
       "              'Manufacturing',\n",
       "              'Pardon',\n",
       "              'Posing_as',\n",
       "              'Processing_materials',\n",
       "              'Publishing',\n",
       "              'Rape',\n",
       "              'Releasing',\n",
       "              'Reparation',\n",
       "              'Replacing',\n",
       "              'Rescuing',\n",
       "              'Rewards_and_punishments',\n",
       "              'Separating',\n",
       "              'Short_selling',\n",
       "              'Silencing',\n",
       "              'Soaking',\n",
       "              'Submitting_documents',\n",
       "              'Supply',\n",
       "              'Supporting',\n",
       "              'Surrendering_possession',\n",
       "              'Taking',\n",
       "              'Temporary_stay',\n",
       "              'Text_creation',\n",
       "              'Touring',\n",
       "              'Translating',\n",
       "              'Travel',\n",
       "              'Using',\n",
       "              'Verdict',\n",
       "              'Work'},\n",
       "             3: {'Agriculture',\n",
       "              'Attempt_means',\n",
       "              'Besieging',\n",
       "              'Change_of_leadership',\n",
       "              'Communication',\n",
       "              'Corporal_punishment',\n",
       "              'Counterattack',\n",
       "              'Detonate_explosive',\n",
       "              'Execution',\n",
       "              'Expend_resource',\n",
       "              'Fining',\n",
       "              'Finish_competition',\n",
       "              'Forging',\n",
       "              'Funding',\n",
       "              'Hunting_scenario',\n",
       "              'Imprisonment',\n",
       "              'Invading',\n",
       "              'Mining',\n",
       "              'Operating_a_system',\n",
       "              'Preserving',\n",
       "              'Releasing_from_custody',\n",
       "              'Renting_out',\n",
       "              'Revenge',\n",
       "              'Rope_manipulation',\n",
       "              'Seeking_to_achieve',\n",
       "              'Shooting_scenario',\n",
       "              'Sign_agreement',\n",
       "              'Suicide_attack',\n",
       "              'Talking_into',\n",
       "              'Theft',\n",
       "              'Use_firearm'},\n",
       "             4: {'Communication_manner',\n",
       "              'Communication_noise',\n",
       "              'Communication_response',\n",
       "              'Gesture',\n",
       "              'Operate_vehicle',\n",
       "              'Reassuring',\n",
       "              'Seeking',\n",
       "              'Summarizing'},\n",
       "             5: {'Shopping'}})"
      ]
     },
     "execution_count": 7,
     "metadata": {},
     "output_type": "execute_result"
    }
   ],
   "source": [
    "level2children = stats_utils.get_all_successors_of_all_successors(G, \n",
    "                                                                  starting_node='Intentionally_act')\n",
    "level2children"
   ]
  },
  {
   "cell_type": "code",
   "execution_count": 10,
   "metadata": {},
   "outputs": [
    {
     "data": {
      "text/plain": [
       "frame (65): Operate_vehicle\n",
       "\n",
       "[URL] https://framenet2.icsi.berkeley.edu/fnReports/data/frame/Operate_vehicle.xml\n",
       "\n",
       "[definition]\n",
       "  The words in this frame describe motion involving a Vehicle and\n",
       "  someone who controls it, the Driver. Some words normally allow\n",
       "  the Vehicle to be expressed as a separate constituent. 'Tim drove\n",
       "  his car all the way across North America.' 'Tom paddled my canoe\n",
       "  across the Canadian border.'  Other words in this domain are\n",
       "  based on the names of vehicles, and do not normally allow the\n",
       "  Vehicle to be expressed as a separate constituent. 'The group\n",
       "  biked all the way across the country.'  However, a separate\n",
       "  Vehicle constituent can occur if it adds information not included\n",
       "  in the verb. 'Tim biked across the country on an old 10-speed.'\n",
       "\n",
       "[semTypes] 0 semantic types\n",
       "\n",
       "[frameRelations] 9 frame relations\n",
       "  <Parent=Operating_a_system -- Inheritance -> Child=Operate_vehicle>\n",
       "  <Complex=Operate_vehicle_scenario -- Subframe -> Component=Operate_vehicle>\n",
       "  <Parent=Motion -- Using -> Child=Operate_vehicle>\n",
       "  <Parent=Operate_vehicle -- Using -> Child=Piracy>\n",
       "  <MainEntry=Motion -- See_also -> ReferringEntry=Operate_vehicle>\n",
       "  <Source=Operate_vehicle -- ReFraming_Mapping -> Target=Bringing>\n",
       "  <Source=Operate_vehicle -- ReFraming_Mapping -> Target=Ride_vehicle>\n",
       "  <Source=Operate_vehicle -- ReFraming_Mapping -> Target=Self_motion>\n",
       "  <Neutral=Use_vehicle -- Perspective_on -> Perspectivized=Operate_vehicle>\n",
       "\n",
       "[lexUnit] 24 lexical units\n",
       "  balloon.v (1265), bicycle.v (1266), bike.v (1267), boat.v (1268),\n",
       "  canoe.v (1269), caravan.v (1270), cruise.v (8858), cycle.v\n",
       "  (1273), drive.v (8863), fly.v (9740), motor.v (1278), paddle.v\n",
       "  (1279), parachute.v (1280), pedal.v (1281), punt.v (1282), raft.v\n",
       "  (1283), ride.v (8880), row.v (1285), sail.v (8882), skate.v\n",
       "  (1287), sledge.v (1288), tack.v (1289), taxi.v (1290), toboggan.v\n",
       "  (1291)\n",
       "\n",
       "\n",
       "[FE] 24 frame elements\n",
       "            Core: Area (300), Driver (292), Goal (297), Path (296), Source (295), Vehicle (294)\n",
       "      Peripheral: Degree (5470), Distance (299), Duration (5320), Manner (298), Means (1932), Place (4898), Purpose (9628), Route (4523), Speed (4522), Time (5321)\n",
       "  Extra-Thematic: Circumstances (4891), Cotheme (1935), Depictive (1930), Event (1931), Explanation (10926), Frequency (10928), Particular_iteration (10923), Result (1933)\n",
       "\n",
       "[FEcoreSets] 1 frame element core sets\n",
       "  Source, Path, Goal"
      ]
     },
     "execution_count": 10,
     "metadata": {},
     "output_type": "execute_result"
    }
   ],
   "source": [
    "a_frame = fn.frame_by_name('Operate_vehicle')\n",
    "a_frame"
   ]
  }
 ],
 "metadata": {
  "kernelspec": {
   "display_name": "Python 3",
   "language": "python",
   "name": "python3"
  },
  "language_info": {
   "codemirror_mode": {
    "name": "ipython",
    "version": 3
   },
   "file_extension": ".py",
   "mimetype": "text/x-python",
   "name": "python",
   "nbconvert_exporter": "python",
   "pygments_lexer": "ipython3",
   "version": "3.7.2"
  }
 },
 "nbformat": 4,
 "nbformat_minor": 2
}
